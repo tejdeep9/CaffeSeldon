{
 "cells": [
  {
   "cell_type": "code",
   "execution_count": 5,
   "metadata": {},
   "outputs": [
    {
     "ename": "ModuleNotFoundError",
     "evalue": "No module named 'caffe2'",
     "output_type": "error",
     "traceback": [
      "\u001b[0;31m---------------------------------------------------------------------------\u001b[0m",
      "\u001b[0;31mModuleNotFoundError\u001b[0m                       Traceback (most recent call last)",
      "\u001b[0;32m<ipython-input-5-3fa6cda8ce95>\u001b[0m in \u001b[0;36m<module>\u001b[0;34m()\u001b[0m\n\u001b[0;32m----> 1\u001b[0;31m \u001b[0;32mfrom\u001b[0m \u001b[0mcaffe2\u001b[0m\u001b[0;34m.\u001b[0m\u001b[0mpython\u001b[0m \u001b[0;32mimport\u001b[0m \u001b[0mworkspace\u001b[0m\u001b[0;34m\u001b[0m\u001b[0m\n\u001b[0m\u001b[1;32m      2\u001b[0m \u001b[0;32mimport\u001b[0m \u001b[0mnumpy\u001b[0m \u001b[0;32mas\u001b[0m \u001b[0mnp\u001b[0m\u001b[0;34m\u001b[0m\u001b[0m\n\u001b[1;32m      3\u001b[0m \u001b[0;34m\u001b[0m\u001b[0m\n\u001b[1;32m      4\u001b[0m \u001b[0;32mclass\u001b[0m \u001b[0mCaffeClassifier\u001b[0m\u001b[0;34m(\u001b[0m\u001b[0mobject\u001b[0m\u001b[0;34m)\u001b[0m\u001b[0;34m:\u001b[0m\u001b[0;34m\u001b[0m\u001b[0m\n\u001b[1;32m      5\u001b[0m \u001b[0;34m\u001b[0m\u001b[0m\n",
      "\u001b[0;31mModuleNotFoundError\u001b[0m: No module named 'caffe2'"
     ]
    }
   ],
   "source": [
    "from caffe2.python import workspace\n",
    "import numpy as np\n",
    "\n",
    "class CaffeClassifier(object): \n",
    "    \n",
    "    def __init__(self):\n",
    "       \n",
    "        with open('/microservice/init_net.pb') as f:\n",
    "            init_net = f.read()\n",
    "        with open('/microservice/predict_net.pb') as f:\n",
    "            predict_net = f.read()\n",
    "\n",
    "        self.model = workspace.Predictor(init_net, predict_net)\n",
    "\n",
    " \n",
    "    def predict(self,X,feature_names):\n",
    "        return self.model.run({'data': X})"
   ]
  },
  {
   "cell_type": "code",
   "execution_count": 3,
   "metadata": {},
   "outputs": [
    {
     "name": "stdout",
     "output_type": "stream",
     "text": [
      "---> Installing application source...\n",
      "---> Installing dependencies ...\n",
      "You must give at least one requirement to install (see \"pip help install\")\n",
      "You are using pip version 9.0.1, however version 10.0.1 is available.\n",
      "You should consider upgrading via the 'pip install --upgrade pip' command.\n",
      "Build completed successfully\n"
     ]
    }
   ],
   "source": [
    "!s2i build . seldonio/seldon-core-s2i-python3 caffe-classifier:0.1"
   ]
  },
  {
   "cell_type": "code",
   "execution_count": 8,
   "metadata": {
    "scrolled": true
   },
   "outputs": [
    {
     "name": "stdout",
     "output_type": "stream",
     "text": [
      "38f0363b05e07a3263fc8c7637ae2d3a7d11f89bf03d1385cc0e50988bc3b75b\r\n"
     ]
    }
   ],
   "source": [
    "!docker run --name \"caffe_predictor\" -d --rm -p 5000:5000 tejdeep9/caffeclassifier:0.1"
   ]
  },
  {
   "cell_type": "code",
   "execution_count": 4,
   "metadata": {},
   "outputs": [
    {
     "name": "stdout",
     "output_type": "stream",
     "text": [
      "rm -f proto/prediction*.py\r\n",
      "rm -f proto/prediction.proto\r\n",
      "rm -rf proto/__pycache__\r\n",
      "cp ../../proto/prediction.proto ./proto\r\n",
      "python -m grpc.tools.protoc -I. --python_out=. --grpc_python_out=. ./proto/prediction.proto\r\n"
     ]
    }
   ],
   "source": [
    "!cd ../../../../seldon-core/wrappers/testing && make build_protos"
   ]
  },
  {
   "cell_type": "code",
   "execution_count": 5,
   "metadata": {},
   "outputs": [
    {
     "name": "stdout",
     "output_type": "stream",
     "text": [
      "----------------------------------------\r\n",
      "SENDING NEW REQUEST:\r\n",
      "{'meta': {}, 'data': {'names': ['x1', 'x2', 'x3', 'x4', 'x5', 'x6', 'x7', 'x8', 'x9', 'x10', 'x11', 'x12', 'x13', 'x14', 'x15', 'x16', 'x17', 'x18', 'x19', 'x20', 'x21', 'x22', 'x23', 'x24', 'x25', 'x26', 'x27', 'x28', 'x29', 'x30', 'x31', 'x32', 'x33', 'x34', 'x35', 'x36', 'x37', 'x38', 'x39', 'x40', 'x41', 'x42', 'x43', 'x44', 'x45', 'x46', 'x47', 'x48', 'x49', 'x50', 'x51', 'x52', 'x53', 'x54', 'x55', 'x56', 'x57', 'x58', 'x59', 'x60', 'x61', 'x62', 'x63', 'x64', 'x65', 'x66', 'x67', 'x68', 'x69', 'x70', 'x71', 'x72', 'x73', 'x74', 'x75', 'x76', 'x77', 'x78', 'x79', 'x80', 'x81', 'x82', 'x83', 'x84', 'x85', 'x86', 'x87', 'x88', 'x89', 'x90', 'x91', 'x92', 'x93', 'x94', 'x95', 'x96', 'x97', 'x98', 'x99', 'x100', 'x101', 'x102', 'x103', 'x104', 'x105', 'x106', 'x107', 'x108', 'x109', 'x110', 'x111', 'x112', 'x113', 'x114', 'x115', 'x116', 'x117', 'x118', 'x119', 'x120', 'x121', 'x122', 'x123', 'x124', 'x125', 'x126', 'x127', 'x128', 'x129', 'x130', 'x131', 'x132', 'x133', 'x134', 'x135', 'x136', 'x137', 'x138', 'x139', 'x140', 'x141', 'x142', 'x143', 'x144', 'x145', 'x146', 'x147', 'x148', 'x149', 'x150', 'x151', 'x152', 'x153', 'x154', 'x155', 'x156', 'x157', 'x158', 'x159', 'x160', 'x161', 'x162', 'x163', 'x164', 'x165', 'x166', 'x167', 'x168', 'x169', 'x170', 'x171', 'x172', 'x173', 'x174', 'x175', 'x176', 'x177', 'x178', 'x179', 'x180', 'x181', 'x182', 'x183', 'x184', 'x185', 'x186', 'x187', 'x188', 'x189', 'x190', 'x191', 'x192', 'x193', 'x194', 'x195', 'x196', 'x197', 'x198', 'x199', 'x200', 'x201', 'x202', 'x203', 'x204', 'x205', 'x206', 'x207', 'x208', 'x209', 'x210', 'x211', 'x212', 'x213', 'x214', 'x215', 'x216', 'x217', 'x218', 'x219', 'x220', 'x221', 'x222', 'x223', 'x224', 'x225', 'x226', 'x227', 'x228', 'x229', 'x230', 'x231', 'x232', 'x233', 'x234', 'x235', 'x236', 'x237', 'x238', 'x239', 'x240', 'x241', 'x242', 'x243', 'x244', 'x245', 'x246', 'x247', 'x248', 'x249', 'x250', 'x251', 'x252', 'x253', 'x254', 'x255', 'x256', 'x257', 'x258', 'x259', 'x260', 'x261', 'x262', 'x263', 'x264', 'x265', 'x266', 'x267', 'x268', 'x269', 'x270', 'x271', 'x272', 'x273', 'x274', 'x275', 'x276', 'x277', 'x278', 'x279', 'x280', 'x281', 'x282', 'x283', 'x284', 'x285', 'x286', 'x287', 'x288', 'x289', 'x290', 'x291', 'x292', 'x293', 'x294', 'x295', 'x296', 'x297', 'x298', 'x299', 'x300', 'x301', 'x302', 'x303', 'x304', 'x305', 'x306', 'x307', 'x308', 'x309', 'x310', 'x311', 'x312', 'x313', 'x314', 'x315', 'x316', 'x317', 'x318', 'x319', 'x320', 'x321', 'x322', 'x323', 'x324', 'x325', 'x326', 'x327', 'x328', 'x329', 'x330', 'x331', 'x332', 'x333', 'x334', 'x335', 'x336', 'x337', 'x338', 'x339', 'x340', 'x341', 'x342', 'x343', 'x344', 'x345', 'x346', 'x347', 'x348', 'x349', 'x350', 'x351', 'x352', 'x353', 'x354', 'x355', 'x356', 'x357', 'x358', 'x359', 'x360', 'x361', 'x362', 'x363', 'x364', 'x365', 'x366', 'x367', 'x368', 'x369', 'x370', 'x371', 'x372', 'x373', 'x374', 'x375', 'x376', 'x377', 'x378', 'x379', 'x380', 'x381', 'x382', 'x383', 'x384', 'x385', 'x386', 'x387', 'x388', 'x389', 'x390', 'x391', 'x392', 'x393', 'x394', 'x395', 'x396', 'x397', 'x398', 'x399', 'x400', 'x401', 'x402', 'x403', 'x404', 'x405', 'x406', 'x407', 'x408', 'x409', 'x410', 'x411', 'x412', 'x413', 'x414', 'x415', 'x416', 'x417', 'x418', 'x419', 'x420', 'x421', 'x422', 'x423', 'x424', 'x425', 'x426', 'x427', 'x428', 'x429', 'x430', 'x431', 'x432', 'x433', 'x434', 'x435', 'x436', 'x437', 'x438', 'x439', 'x440', 'x441', 'x442', 'x443', 'x444', 'x445', 'x446', 'x447', 'x448', 'x449', 'x450', 'x451', 'x452', 'x453', 'x454', 'x455', 'x456', 'x457', 'x458', 'x459', 'x460', 'x461', 'x462', 'x463', 'x464', 'x465', 'x466', 'x467', 'x468', 'x469', 'x470', 'x471', 'x472', 'x473', 'x474', 'x475', 'x476', 'x477', 'x478', 'x479', 'x480', 'x481', 'x482', 'x483', 'x484', 'x485', 'x486', 'x487', 'x488', 'x489', 'x490', 'x491', 'x492', 'x493', 'x494', 'x495', 'x496', 'x497', 'x498', 'x499', 'x500', 'x501', 'x502', 'x503', 'x504', 'x505', 'x506', 'x507', 'x508', 'x509', 'x510', 'x511', 'x512', 'x513', 'x514', 'x515', 'x516', 'x517', 'x518', 'x519', 'x520', 'x521', 'x522', 'x523', 'x524', 'x525', 'x526', 'x527', 'x528', 'x529', 'x530', 'x531', 'x532', 'x533', 'x534', 'x535', 'x536', 'x537', 'x538', 'x539', 'x540', 'x541', 'x542', 'x543', 'x544', 'x545', 'x546', 'x547', 'x548', 'x549', 'x550', 'x551', 'x552', 'x553', 'x554', 'x555', 'x556', 'x557', 'x558', 'x559', 'x560', 'x561', 'x562', 'x563', 'x564', 'x565', 'x566', 'x567', 'x568', 'x569', 'x570', 'x571', 'x572', 'x573', 'x574', 'x575', 'x576', 'x577', 'x578', 'x579', 'x580', 'x581', 'x582', 'x583', 'x584', 'x585', 'x586', 'x587', 'x588', 'x589', 'x590', 'x591', 'x592', 'x593', 'x594', 'x595', 'x596', 'x597', 'x598', 'x599', 'x600', 'x601', 'x602', 'x603', 'x604', 'x605', 'x606', 'x607', 'x608', 'x609', 'x610', 'x611', 'x612', 'x613', 'x614', 'x615', 'x616', 'x617', 'x618', 'x619', 'x620', 'x621', 'x622', 'x623', 'x624', 'x625', 'x626', 'x627', 'x628', 'x629', 'x630', 'x631', 'x632', 'x633', 'x634', 'x635', 'x636', 'x637', 'x638', 'x639', 'x640', 'x641', 'x642', 'x643', 'x644', 'x645', 'x646', 'x647', 'x648', 'x649', 'x650', 'x651', 'x652', 'x653', 'x654', 'x655', 'x656', 'x657', 'x658', 'x659', 'x660', 'x661', 'x662', 'x663', 'x664', 'x665', 'x666', 'x667', 'x668', 'x669', 'x670', 'x671', 'x672', 'x673', 'x674', 'x675', 'x676', 'x677', 'x678', 'x679', 'x680', 'x681', 'x682', 'x683', 'x684', 'x685', 'x686', 'x687', 'x688', 'x689', 'x690', 'x691', 'x692', 'x693', 'x694', 'x695', 'x696', 'x697', 'x698', 'x699', 'x700', 'x701', 'x702', 'x703', 'x704', 'x705', 'x706', 'x707', 'x708', 'x709', 'x710', 'x711', 'x712', 'x713', 'x714', 'x715', 'x716', 'x717', 'x718', 'x719', 'x720', 'x721', 'x722', 'x723', 'x724', 'x725', 'x726', 'x727', 'x728', 'x729', 'x730', 'x731', 'x732', 'x733', 'x734', 'x735', 'x736', 'x737', 'x738', 'x739', 'x740', 'x741', 'x742', 'x743', 'x744', 'x745', 'x746', 'x747', 'x748', 'x749', 'x750', 'x751', 'x752', 'x753', 'x754', 'x755', 'x756', 'x757', 'x758', 'x759', 'x760', 'x761', 'x762', 'x763', 'x764', 'x765', 'x766', 'x767', 'x768', 'x769', 'x770', 'x771', 'x772', 'x773', 'x774', 'x775', 'x776', 'x777', 'x778', 'x779', 'x780', 'x781', 'x782', 'x783', 'x784'], 'ndarray': [[0.796, 0.674, 0.184, 0.783, 0.051, 0.562, 0.968, 0.299, 0.953, 0.796, 0.835, 0.144, 0.734, 0.033, 0.251, 0.24, 0.313, 0.312, 0.203, 0.655, 0.218, 0.925, 0.916, 0.177, 0.463, 0.318, 0.707, 0.546, 0.088, 0.952, 0.39, 0.258, 0.166, 0.815, 0.277, 0.776, 0.745, 0.913, 0.068, 0.732, 0.057, 0.117, 0.485, 0.011, 0.117, 0.275, 0.349, 0.56, 0.483, 0.977, 0.632, 0.652, 0.901, 0.68, 0.902, 0.774, 0.802, 0.047, 0.492, 0.284, 0.06, 0.469, 0.753, 0.431, 0.589, 0.054, 0.139, 0.507, 0.619, 0.539, 0.648, 0.261, 0.078, 0.365, 0.976, 0.904, 0.606, 0.777, 0.806, 0.784, 0.681, 0.121, 0.973, 0.913, 0.151, 0.345, 0.31, 0.441, 0.135, 0.574, 0.684, 0.11, 0.203, 0.531, 0.449, 0.001, 0.364, 0.37, 0.935, 0.159, 0.594, 0.487, 0.714, 0.501, 0.049, 0.767, 0.316, 0.024, 0.245, 0.728, 0.369, 0.518, 0.652, 0.511, 0.667, 0.858, 0.545, 0.346, 0.158, 0.637, 0.527, 0.75, 0.141, 0.79, 0.367, 0.503, 0.625, 0.526, 0.728, 0.373, 0.846, 0.995, 0.215, 0.324, 0.355, 0.213, 0.096, 0.203, 0.276, 0.043, 0.785, 0.685, 0.203, 0.876, 0.088, 0.22, 0.998, 0.898, 0.0, 0.066, 0.031, 0.4, 0.955, 0.043, 0.588, 0.595, 0.923, 0.94, 0.298, 0.578, 0.186, 0.323, 0.407, 0.267, 0.866, 0.994, 0.447, 0.055, 0.066, 0.971, 0.236, 0.779, 0.913, 0.808, 0.527, 0.027, 0.712, 0.05, 0.273, 0.87, 0.117, 0.404, 0.764, 0.358, 0.347, 0.258, 0.374, 0.396, 0.742, 0.21, 0.879, 0.453, 0.2, 0.291, 0.462, 0.063, 0.483, 0.302, 0.838, 0.925, 0.454, 0.536, 0.002, 0.248, 0.858, 0.805, 0.684, 0.927, 0.243, 0.725, 0.405, 0.745, 0.467, 0.797, 0.217, 0.864, 0.815, 0.53, 0.263, 0.514, 0.141, 0.461, 0.937, 0.709, 0.274, 0.301, 0.42, 0.473, 0.535, 0.547, 0.789, 0.493, 0.655, 0.968, 0.973, 0.507, 0.492, 0.807, 0.148, 0.612, 0.75, 0.922, 0.482, 0.478, 0.902, 0.645, 0.398, 0.031, 0.164, 0.99, 0.361, 0.612, 0.026, 0.548, 0.481, 0.829, 0.638, 0.078, 0.028, 0.131, 0.568, 0.853, 0.377, 0.813, 0.341, 0.293, 0.387, 0.899, 0.227, 0.964, 0.167, 0.883, 0.55, 0.518, 0.886, 0.843, 0.138, 0.531, 0.843, 0.745, 0.118, 0.533, 0.268, 0.064, 0.562, 0.897, 0.48, 0.433, 0.455, 0.23, 0.039, 0.092, 0.491, 0.245, 0.011, 0.808, 0.979, 0.287, 0.196, 0.102, 0.522, 0.286, 0.501, 0.303, 0.152, 0.001, 0.239, 0.471, 0.252, 0.667, 0.915, 0.59, 0.644, 0.214, 0.356, 0.268, 0.239, 0.562, 0.293, 0.805, 0.071, 0.858, 0.764, 0.96, 0.702, 0.649, 0.657, 0.258, 0.056, 0.406, 0.44, 0.978, 0.829, 0.1, 0.305, 0.315, 0.825, 0.236, 0.021, 0.012, 0.497, 0.961, 0.192, 0.661, 0.493, 0.395, 0.86, 0.141, 0.075, 0.7, 0.479, 0.613, 0.043, 0.279, 0.978, 0.408, 0.694, 0.663, 0.782, 0.112, 0.534, 0.793, 0.654, 0.455, 0.789, 0.826, 0.309, 0.041, 0.92, 0.288, 0.172, 0.451, 0.202, 0.277, 0.072, 0.542, 0.573, 0.012, 0.688, 0.75, 0.842, 0.341, 0.134, 0.475, 0.17, 0.639, 0.303, 0.156, 0.986, 0.232, 0.032, 0.379, 0.295, 0.734, 0.012, 0.084, 0.8, 0.774, 0.44, 0.426, 0.916, 0.332, 0.917, 0.089, 0.006, 0.902, 0.412, 0.539, 0.914, 0.559, 0.048, 0.894, 0.715, 0.584, 0.131, 0.362, 0.929, 0.197, 0.908, 0.985, 0.807, 0.651, 0.03, 0.645, 0.435, 0.312, 0.738, 0.96, 0.759, 0.878, 0.234, 0.781, 0.619, 0.055, 0.701, 0.983, 0.312, 0.239, 0.207, 0.104, 0.025, 0.428, 0.577, 0.154, 0.86, 0.101, 0.896, 0.295, 0.136, 0.557, 0.162, 0.673, 0.432, 0.462, 0.923, 0.566, 0.33, 0.871, 0.102, 0.015, 0.681, 0.903, 0.148, 0.157, 0.691, 0.588, 0.388, 0.309, 0.157, 0.883, 0.727, 0.165, 0.778, 0.825, 0.066, 0.133, 0.704, 0.132, 0.929, 0.242, 0.213, 0.243, 0.748, 0.815, 0.473, 0.135, 0.85, 0.792, 0.079, 0.686, 0.27, 0.35, 0.931, 0.29, 0.372, 0.571, 0.194, 0.275, 0.223, 0.897, 0.821, 0.36, 0.846, 0.973, 0.339, 0.612, 0.981, 0.76, 0.176, 0.761, 0.608, 0.31, 0.185, 0.378, 0.154, 0.14, 0.822, 0.378, 0.759, 0.27, 0.75, 0.84, 0.291, 0.749, 0.055, 0.085, 0.4, 0.605, 0.809, 0.103, 0.911, 0.837, 0.054, 0.789, 0.593, 0.754, 0.979, 0.685, 0.826, 0.053, 0.919, 0.211, 0.604, 0.042, 0.163, 0.959, 0.223, 0.067, 0.178, 0.065, 0.958, 0.258, 0.606, 0.021, 0.376, 0.524, 0.199, 0.376, 0.905, 0.573, 0.923, 0.802, 0.976, 0.411, 0.031, 0.777, 0.478, 0.422, 0.448, 0.733, 0.724, 0.927, 0.398, 0.948, 0.223, 0.494, 0.747, 0.438, 0.255, 0.367, 0.053, 0.874, 0.018, 0.088, 0.71, 0.543, 0.34, 0.255, 0.653, 0.804, 0.376, 0.71, 0.901, 0.204, 0.195, 0.309, 0.674, 0.676, 0.505, 0.638, 0.543, 0.351, 0.733, 0.641, 0.801, 0.14, 0.22, 0.121, 0.846, 0.314, 0.165, 0.858, 0.027, 0.655, 0.248, 0.303, 0.265, 0.026, 0.655, 0.24, 0.987, 0.973, 0.181, 0.146, 0.279, 0.751, 0.644, 0.434, 0.739, 0.538, 0.098, 0.427, 0.607, 0.254, 0.569, 0.951, 0.743, 0.599, 0.692, 0.501, 0.19, 0.262, 0.137, 0.392, 0.601, 0.082, 0.008, 0.245, 0.573, 0.659, 0.139, 0.077, 0.186, 0.749, 0.699, 0.311, 0.293, 0.744, 0.828, 0.219, 0.294, 0.339, 0.011, 0.007, 0.225, 0.457, 0.721, 0.677, 0.412, 0.8, 0.828, 0.945, 0.954, 0.61, 0.4, 0.066, 0.574, 0.133, 0.536, 0.065, 0.83, 0.104, 0.715, 0.484, 0.05, 0.479, 0.987, 0.927, 0.01, 0.668, 0.136, 0.11, 0.889, 0.93, 0.066, 0.163, 0.736, 0.169, 0.425, 0.811, 0.497, 0.155, 0.625, 0.652, 0.582, 0.811, 0.472, 0.93, 0.675, 0.653, 0.42, 0.869, 0.131, 0.192, 0.904, 0.324, 0.82, 0.228, 0.776, 0.716, 0.092, 0.376, 0.626, 0.428, 0.817, 0.407, 0.873, 0.353, 0.177, 0.393, 0.564, 0.315, 0.624, 0.775, 0.687, 0.326, 0.477, 0.578, 0.068, 0.339, 0.31, 0.308, 0.48, 0.603, 0.87, 0.14, 0.738, 0.718, 0.908, 0.215, 0.464, 0.915, 0.231, 0.261, 0.777, 0.74, 0.353, 0.761, 0.124, 0.031, 0.521, 0.337, 0.142, 0.475, 0.362, 0.127, 0.053, 0.443, 0.783, 0.786, 0.642, 0.06, 0.15, 0.623, 0.839, 0.426, 0.664, 0.527, 0.704, 0.202, 0.39, 0.392, 0.389, 0.75]]}}\r\n"
     ]
    },
    {
     "name": "stdout",
     "output_type": "stream",
     "text": [
      "Traceback (most recent call last):\r\n",
      "  File \"/Users/tejdeepkautharam/anaconda3/lib/python3.6/site-packages/urllib3/connection.py\", line 141, in _new_conn\r\n",
      "    (self.host, self.port), self.timeout, **extra_kw)\r\n",
      "  File \"/Users/tejdeepkautharam/anaconda3/lib/python3.6/site-packages/urllib3/util/connection.py\", line 83, in create_connection\r\n",
      "    raise err\r\n",
      "  File \"/Users/tejdeepkautharam/anaconda3/lib/python3.6/site-packages/urllib3/util/connection.py\", line 73, in create_connection\r\n",
      "    sock.connect(sa)\r\n",
      "ConnectionRefusedError: [Errno 61] Connection refused\r\n",
      "\r\n",
      "During handling of the above exception, another exception occurred:\r\n",
      "\r\n",
      "Traceback (most recent call last):\r\n",
      "  File \"/Users/tejdeepkautharam/anaconda3/lib/python3.6/site-packages/urllib3/connectionpool.py\", line 601, in urlopen\r\n",
      "    chunked=chunked)\r\n",
      "  File \"/Users/tejdeepkautharam/anaconda3/lib/python3.6/site-packages/urllib3/connectionpool.py\", line 357, in _make_request\r\n",
      "    conn.request(method, url, **httplib_request_kw)\r\n",
      "  File \"/Users/tejdeepkautharam/anaconda3/lib/python3.6/http/client.py\", line 1239, in request\r\n",
      "    self._send_request(method, url, body, headers, encode_chunked)\r\n",
      "  File \"/Users/tejdeepkautharam/anaconda3/lib/python3.6/http/client.py\", line 1285, in _send_request\r\n",
      "    self.endheaders(body, encode_chunked=encode_chunked)\r\n",
      "  File \"/Users/tejdeepkautharam/anaconda3/lib/python3.6/http/client.py\", line 1234, in endheaders\r\n",
      "    self._send_output(message_body, encode_chunked=encode_chunked)\r\n",
      "  File \"/Users/tejdeepkautharam/anaconda3/lib/python3.6/http/client.py\", line 1026, in _send_output\r\n",
      "    self.send(msg)\r\n",
      "  File \"/Users/tejdeepkautharam/anaconda3/lib/python3.6/http/client.py\", line 964, in send\r\n",
      "    self.connect()\r\n",
      "  File \"/Users/tejdeepkautharam/anaconda3/lib/python3.6/site-packages/urllib3/connection.py\", line 166, in connect\r\n",
      "    conn = self._new_conn()\r\n",
      "  File \"/Users/tejdeepkautharam/anaconda3/lib/python3.6/site-packages/urllib3/connection.py\", line 150, in _new_conn\r\n",
      "    self, \"Failed to establish a new connection: %s\" % e)\r\n",
      "urllib3.exceptions.NewConnectionError: <urllib3.connection.HTTPConnection object at 0x10ef04a20>: Failed to establish a new connection: [Errno 61] Connection refused\r\n",
      "\r\n",
      "During handling of the above exception, another exception occurred:\r\n",
      "\r\n",
      "Traceback (most recent call last):\r\n",
      "  File \"/Users/tejdeepkautharam/anaconda3/lib/python3.6/site-packages/requests/adapters.py\", line 440, in send\r\n",
      "    timeout=timeout\r\n",
      "  File \"/Users/tejdeepkautharam/anaconda3/lib/python3.6/site-packages/urllib3/connectionpool.py\", line 639, in urlopen\r\n",
      "    _stacktrace=sys.exc_info()[2])\r\n",
      "  File \"/Users/tejdeepkautharam/anaconda3/lib/python3.6/site-packages/urllib3/util/retry.py\", line 388, in increment\r\n",
      "    raise MaxRetryError(_pool, url, error or ResponseError(cause))\r\n",
      "urllib3.exceptions.MaxRetryError: HTTPConnectionPool(host='0.0.0.0', port=5000): Max retries exceeded with url: /predict (Caused by NewConnectionError('<urllib3.connection.HTTPConnection object at 0x10ef04a20>: Failed to establish a new connection: [Errno 61] Connection refused',))\r\n",
      "\r\n",
      "During handling of the above exception, another exception occurred:\r\n",
      "\r\n",
      "Traceback (most recent call last):\r\n",
      "  File \"../../../../seldon-core/wrappers/testing/tester.py\", line 191, in <module>\r\n",
      "    run(args)\r\n",
      "  File \"../../../../seldon-core/wrappers/testing/tester.py\", line 154, in run\r\n",
      "    data={\"json\":json.dumps(REST_request),\"isDefault\":True})\r\n",
      "  File \"/Users/tejdeepkautharam/anaconda3/lib/python3.6/site-packages/requests/api.py\", line 112, in post\r\n",
      "    return request('post', url, data=data, json=json, **kwargs)\r\n",
      "  File \"/Users/tejdeepkautharam/anaconda3/lib/python3.6/site-packages/requests/api.py\", line 58, in request\r\n",
      "    return session.request(method=method, url=url, **kwargs)\r\n",
      "  File \"/Users/tejdeepkautharam/anaconda3/lib/python3.6/site-packages/requests/sessions.py\", line 508, in request\r\n",
      "    resp = self.send(prep, **send_kwargs)\r\n",
      "  File \"/Users/tejdeepkautharam/anaconda3/lib/python3.6/site-packages/requests/sessions.py\", line 618, in send\r\n",
      "    r = adapter.send(request, **kwargs)\r\n",
      "  File \"/Users/tejdeepkautharam/anaconda3/lib/python3.6/site-packages/requests/adapters.py\", line 508, in send\r\n",
      "    raise ConnectionError(e, request=request)\r\n",
      "requests.exceptions.ConnectionError: HTTPConnectionPool(host='0.0.0.0', port=5000): Max retries exceeded with url: /predict (Caused by NewConnectionError('<urllib3.connection.HTTPConnection object at 0x10ef04a20>: Failed to establish a new connection: [Errno 61] Connection refused',))\r\n"
     ]
    }
   ],
   "source": [
    "!python ../../../../seldon-core/wrappers/testing/tester.py contract.json 0.0.0.0 5000 -p"
   ]
  },
  {
   "cell_type": "code",
   "execution_count": 49,
   "metadata": {},
   "outputs": [
    {
     "name": "stdout",
     "output_type": "stream",
     "text": [
      "Error: No such container: caffe_predictor\r\n"
     ]
    }
   ],
   "source": [
    "!docker rm caffe_predictor --force\n"
   ]
  },
  {
   "cell_type": "code",
   "execution_count": 50,
   "metadata": {},
   "outputs": [
    {
     "name": "stdout",
     "output_type": "stream",
     "text": [
      "Starting local Kubernetes v1.9.0 cluster...\n",
      "Starting VM...\n",
      "Getting VM IP address...\n",
      "Moving files into cluster...\n",
      "Setting up certs...\n",
      "Connecting to cluster...\n",
      "Setting up kubeconfig...\n",
      "Starting cluster components...\n",
      "Kubectl is now configured to use the cluster.\n",
      "Loading cached images from config file.\n"
     ]
    }
   ],
   "source": [
    "!minikube start --memory 4096 --feature-gates=CustomResourceValidation=true --extra-config=apiserver.Authorization.Mode=RBAC"
   ]
  },
  {
   "cell_type": "code",
   "execution_count": 51,
   "metadata": {},
   "outputs": [
    {
     "name": "stdout",
     "output_type": "stream",
     "text": [
      "clusterrolebinding.rbac.authorization.k8s.io \"kube-system-cluster-admin\" created\r\n"
     ]
    }
   ],
   "source": [
    "!kubectl create clusterrolebinding kube-system-cluster-admin --clusterrole=cluster-admin --serviceaccount=kube-system:default\n"
   ]
  },
  {
   "cell_type": "code",
   "execution_count": 52,
   "metadata": {},
   "outputs": [
    {
     "name": "stdout",
     "output_type": "stream",
     "text": [
      "$HELM_HOME has been configured at /Users/tejdeepkautharam/.helm.\n",
      "\n",
      "Tiller (the Helm server-side component) has been installed into your Kubernetes Cluster.\n",
      "\n",
      "Please note: by default, Tiller is deployed with an insecure 'allow unauthenticated users' policy.\n",
      "For more information on securing your installation see: https://docs.helm.sh/using_helm/#securing-your-helm-installation\n",
      "Happy Helming!\n"
     ]
    }
   ],
   "source": [
    "!helm init"
   ]
  },
  {
   "cell_type": "code",
   "execution_count": 58,
   "metadata": {},
   "outputs": [
    {
     "name": "stdout",
     "output_type": "stream",
     "text": [
      "NAME:   seldon-core-crd\n",
      "LAST DEPLOYED: Mon Jul  2 16:28:08 2018\n",
      "NAMESPACE: default\n",
      "STATUS: DEPLOYED\n",
      "\n",
      "RESOURCES:\n",
      "==> v1beta1/ClusterRole\n",
      "NAME                        AGE\n",
      "seldon-spartakus-volunteer  0s\n",
      "\n",
      "==> v1beta1/ClusterRoleBinding\n",
      "NAME                        AGE\n",
      "seldon-spartakus-volunteer  0s\n",
      "\n",
      "==> v1/ConfigMap\n",
      "NAME                     DATA  AGE\n",
      "seldon-spartakus-config  3     0s\n",
      "\n",
      "==> v1beta1/CustomResourceDefinition\n",
      "NAME                                         AGE\n",
      "seldondeployments.machinelearning.seldon.io  0s\n",
      "\n",
      "==> v1beta1/Deployment\n",
      "NAME                        DESIRED  CURRENT  UP-TO-DATE  AVAILABLE  AGE\n",
      "seldon-spartakus-volunteer  1        0        0           0          0s\n",
      "\n",
      "==> v1/ServiceAccount\n",
      "NAME                        SECRETS  AGE\n",
      "seldon-spartakus-volunteer  1        0s\n",
      "\n",
      "\n",
      "NOTES:\n",
      "NOTES: TODO\n",
      "\n",
      "\n",
      "NAME:   seldon-core\n",
      "LAST DEPLOYED: Mon Jul  2 16:28:08 2018\n",
      "NAMESPACE: default\n",
      "STATUS: DEPLOYED\n",
      "\n",
      "RESOURCES:\n",
      "==> v1/ServiceAccount\n",
      "NAME    SECRETS  AGE\n",
      "seldon  1        0s\n",
      "\n",
      "==> v1/RoleBinding\n",
      "NAME    AGE\n",
      "seldon  0s\n",
      "\n",
      "==> v1/Pod(related)\n",
      "NAME                   READY  STATUS             RESTARTS  AGE\n",
      "redis-df886d999-dpngn  0/1    ContainerCreating  0         0s\n",
      "\n",
      "==> v1beta1/Deployment\n",
      "NAME                    DESIRED  CURRENT  UP-TO-DATE  AVAILABLE  AGE\n",
      "seldon-apiserver        1        0        0           0          1s\n",
      "seldon-cluster-manager  1        0        0           0          0s\n",
      "redis                   1        1        1           0          0s\n",
      "\n",
      "==> v1/Service\n",
      "NAME              TYPE       CLUSTER-IP      EXTERNAL-IP  PORT(S)                        AGE\n",
      "seldon-apiserver  NodePort   10.102.116.189  <none>       8080:31284/TCP,5000:31193/TCP  0s\n",
      "redis             ClusterIP  10.103.158.68   <none>       6379/TCP                       0s\n",
      "\n",
      "\n",
      "NOTES:\n",
      "NOTES: TODO\n",
      "\n",
      "\n"
     ]
    }
   ],
   "source": [
    "!helm install ../../../../seldon-core/helm-charts/seldon-core-crd --name seldon-core-crd  --set usage_metrics.enabled=true\n",
    "!helm install ../../../../seldon-core/helm-charts/seldon-core --name seldon-core"
   ]
  },
  {
   "cell_type": "code",
   "execution_count": 59,
   "metadata": {},
   "outputs": [
    {
     "name": "stdout",
     "output_type": "stream",
     "text": [
      "---> Installing application source...\n",
      "---> Installing dependencies ...\n",
      "You must give at least one requirement to install (see \"pip help install\")\n",
      "You are using pip version 9.0.1, however version 10.0.1 is available.\n",
      "You should consider upgrading via the 'pip install --upgrade pip' command.\n",
      "Build completed successfully\n"
     ]
    }
   ],
   "source": [
    "!eval $(minikube docker-env) && s2i build . seldonio/seldon-core-s2i-python3 caffe-classifier:0.1"
   ]
  },
  {
   "cell_type": "code",
   "execution_count": 60,
   "metadata": {},
   "outputs": [
    {
     "name": "stdout",
     "output_type": "stream",
     "text": [
      "seldondeployment.machinelearning.seldon.io \"caffe-test\" created\r\n"
     ]
    }
   ],
   "source": [
    "!kubectl create -f deploy.json"
   ]
  },
  {
   "cell_type": "code",
   "execution_count": 69,
   "metadata": {},
   "outputs": [
    {
     "name": "stdout",
     "output_type": "stream",
     "text": [
      "map[predictorStatus:[map[name:caffe-test-single-model replicas:1 replicasAvailable:0]]]"
     ]
    }
   ],
   "source": [
    "!kubectl get seldondeployments caffe-test -o jsonpath='{.status}'\n"
   ]
  },
  {
   "cell_type": "code",
   "execution_count": 23,
   "metadata": {},
   "outputs": [
    {
     "name": "stdout",
     "output_type": "stream",
     "text": [
      "rm -f proto/prediction*.py\n",
      "rm -f proto/prediction.proto\n",
      "rm -rf proto/__pycache__\n",
      "mkdir -p ./proto\n",
      "touch ./proto/__init__.py\n",
      "cp ../../proto/prediction.proto ./proto\n",
      "python -m grpc.tools.protoc -I. --python_out=. --grpc_python_out=. ./proto/prediction.proto\n"
     ]
    }
   ],
   "source": [
    "!cd ../../../../seldon-core/util/api_tester && make build_protos"
   ]
  },
  {
   "cell_type": "code",
   "execution_count": 71,
   "metadata": {},
   "outputs": [
    {
     "name": "stdout",
     "output_type": "stream",
     "text": [
      "----------------------------------------\r\n",
      "SENDING NEW REQUEST:\r\n",
      "{'meta': {}, 'data': {'names': ['x1', 'x2', 'x3', 'x4', 'x5', 'x6', 'x7', 'x8', 'x9', 'x10', 'x11', 'x12', 'x13', 'x14', 'x15', 'x16', 'x17', 'x18', 'x19', 'x20', 'x21', 'x22', 'x23', 'x24', 'x25', 'x26', 'x27', 'x28', 'x29', 'x30', 'x31', 'x32', 'x33', 'x34', 'x35', 'x36', 'x37', 'x38', 'x39', 'x40', 'x41', 'x42', 'x43', 'x44', 'x45', 'x46', 'x47', 'x48', 'x49', 'x50', 'x51', 'x52', 'x53', 'x54', 'x55', 'x56', 'x57', 'x58', 'x59', 'x60', 'x61', 'x62', 'x63', 'x64', 'x65', 'x66', 'x67', 'x68', 'x69', 'x70', 'x71', 'x72', 'x73', 'x74', 'x75', 'x76', 'x77', 'x78', 'x79', 'x80', 'x81', 'x82', 'x83', 'x84', 'x85', 'x86', 'x87', 'x88', 'x89', 'x90', 'x91', 'x92', 'x93', 'x94', 'x95', 'x96', 'x97', 'x98', 'x99', 'x100', 'x101', 'x102', 'x103', 'x104', 'x105', 'x106', 'x107', 'x108', 'x109', 'x110', 'x111', 'x112', 'x113', 'x114', 'x115', 'x116', 'x117', 'x118', 'x119', 'x120', 'x121', 'x122', 'x123', 'x124', 'x125', 'x126', 'x127', 'x128', 'x129', 'x130', 'x131', 'x132', 'x133', 'x134', 'x135', 'x136', 'x137', 'x138', 'x139', 'x140', 'x141', 'x142', 'x143', 'x144', 'x145', 'x146', 'x147', 'x148', 'x149', 'x150', 'x151', 'x152', 'x153', 'x154', 'x155', 'x156', 'x157', 'x158', 'x159', 'x160', 'x161', 'x162', 'x163', 'x164', 'x165', 'x166', 'x167', 'x168', 'x169', 'x170', 'x171', 'x172', 'x173', 'x174', 'x175', 'x176', 'x177', 'x178', 'x179', 'x180', 'x181', 'x182', 'x183', 'x184', 'x185', 'x186', 'x187', 'x188', 'x189', 'x190', 'x191', 'x192', 'x193', 'x194', 'x195', 'x196', 'x197', 'x198', 'x199', 'x200', 'x201', 'x202', 'x203', 'x204', 'x205', 'x206', 'x207', 'x208', 'x209', 'x210', 'x211', 'x212', 'x213', 'x214', 'x215', 'x216', 'x217', 'x218', 'x219', 'x220', 'x221', 'x222', 'x223', 'x224', 'x225', 'x226', 'x227', 'x228', 'x229', 'x230', 'x231', 'x232', 'x233', 'x234', 'x235', 'x236', 'x237', 'x238', 'x239', 'x240', 'x241', 'x242', 'x243', 'x244', 'x245', 'x246', 'x247', 'x248', 'x249', 'x250', 'x251', 'x252', 'x253', 'x254', 'x255', 'x256', 'x257', 'x258', 'x259', 'x260', 'x261', 'x262', 'x263', 'x264', 'x265', 'x266', 'x267', 'x268', 'x269', 'x270', 'x271', 'x272', 'x273', 'x274', 'x275', 'x276', 'x277', 'x278', 'x279', 'x280', 'x281', 'x282', 'x283', 'x284', 'x285', 'x286', 'x287', 'x288', 'x289', 'x290', 'x291', 'x292', 'x293', 'x294', 'x295', 'x296', 'x297', 'x298', 'x299', 'x300', 'x301', 'x302', 'x303', 'x304', 'x305', 'x306', 'x307', 'x308', 'x309', 'x310', 'x311', 'x312', 'x313', 'x314', 'x315', 'x316', 'x317', 'x318', 'x319', 'x320', 'x321', 'x322', 'x323', 'x324', 'x325', 'x326', 'x327', 'x328', 'x329', 'x330', 'x331', 'x332', 'x333', 'x334', 'x335', 'x336', 'x337', 'x338', 'x339', 'x340', 'x341', 'x342', 'x343', 'x344', 'x345', 'x346', 'x347', 'x348', 'x349', 'x350', 'x351', 'x352', 'x353', 'x354', 'x355', 'x356', 'x357', 'x358', 'x359', 'x360', 'x361', 'x362', 'x363', 'x364', 'x365', 'x366', 'x367', 'x368', 'x369', 'x370', 'x371', 'x372', 'x373', 'x374', 'x375', 'x376', 'x377', 'x378', 'x379', 'x380', 'x381', 'x382', 'x383', 'x384', 'x385', 'x386', 'x387', 'x388', 'x389', 'x390', 'x391', 'x392', 'x393', 'x394', 'x395', 'x396', 'x397', 'x398', 'x399', 'x400', 'x401', 'x402', 'x403', 'x404', 'x405', 'x406', 'x407', 'x408', 'x409', 'x410', 'x411', 'x412', 'x413', 'x414', 'x415', 'x416', 'x417', 'x418', 'x419', 'x420', 'x421', 'x422', 'x423', 'x424', 'x425', 'x426', 'x427', 'x428', 'x429', 'x430', 'x431', 'x432', 'x433', 'x434', 'x435', 'x436', 'x437', 'x438', 'x439', 'x440', 'x441', 'x442', 'x443', 'x444', 'x445', 'x446', 'x447', 'x448', 'x449', 'x450', 'x451', 'x452', 'x453', 'x454', 'x455', 'x456', 'x457', 'x458', 'x459', 'x460', 'x461', 'x462', 'x463', 'x464', 'x465', 'x466', 'x467', 'x468', 'x469', 'x470', 'x471', 'x472', 'x473', 'x474', 'x475', 'x476', 'x477', 'x478', 'x479', 'x480', 'x481', 'x482', 'x483', 'x484', 'x485', 'x486', 'x487', 'x488', 'x489', 'x490', 'x491', 'x492', 'x493', 'x494', 'x495', 'x496', 'x497', 'x498', 'x499', 'x500', 'x501', 'x502', 'x503', 'x504', 'x505', 'x506', 'x507', 'x508', 'x509', 'x510', 'x511', 'x512', 'x513', 'x514', 'x515', 'x516', 'x517', 'x518', 'x519', 'x520', 'x521', 'x522', 'x523', 'x524', 'x525', 'x526', 'x527', 'x528', 'x529', 'x530', 'x531', 'x532', 'x533', 'x534', 'x535', 'x536', 'x537', 'x538', 'x539', 'x540', 'x541', 'x542', 'x543', 'x544', 'x545', 'x546', 'x547', 'x548', 'x549', 'x550', 'x551', 'x552', 'x553', 'x554', 'x555', 'x556', 'x557', 'x558', 'x559', 'x560', 'x561', 'x562', 'x563', 'x564', 'x565', 'x566', 'x567', 'x568', 'x569', 'x570', 'x571', 'x572', 'x573', 'x574', 'x575', 'x576', 'x577', 'x578', 'x579', 'x580', 'x581', 'x582', 'x583', 'x584', 'x585', 'x586', 'x587', 'x588', 'x589', 'x590', 'x591', 'x592', 'x593', 'x594', 'x595', 'x596', 'x597', 'x598', 'x599', 'x600', 'x601', 'x602', 'x603', 'x604', 'x605', 'x606', 'x607', 'x608', 'x609', 'x610', 'x611', 'x612', 'x613', 'x614', 'x615', 'x616', 'x617', 'x618', 'x619', 'x620', 'x621', 'x622', 'x623', 'x624', 'x625', 'x626', 'x627', 'x628', 'x629', 'x630', 'x631', 'x632', 'x633', 'x634', 'x635', 'x636', 'x637', 'x638', 'x639', 'x640', 'x641', 'x642', 'x643', 'x644', 'x645', 'x646', 'x647', 'x648', 'x649', 'x650', 'x651', 'x652', 'x653', 'x654', 'x655', 'x656', 'x657', 'x658', 'x659', 'x660', 'x661', 'x662', 'x663', 'x664', 'x665', 'x666', 'x667', 'x668', 'x669', 'x670', 'x671', 'x672', 'x673', 'x674', 'x675', 'x676', 'x677', 'x678', 'x679', 'x680', 'x681', 'x682', 'x683', 'x684', 'x685', 'x686', 'x687', 'x688', 'x689', 'x690', 'x691', 'x692', 'x693', 'x694', 'x695', 'x696', 'x697', 'x698', 'x699', 'x700', 'x701', 'x702', 'x703', 'x704', 'x705', 'x706', 'x707', 'x708', 'x709', 'x710', 'x711', 'x712', 'x713', 'x714', 'x715', 'x716', 'x717', 'x718', 'x719', 'x720', 'x721', 'x722', 'x723', 'x724', 'x725', 'x726', 'x727', 'x728', 'x729', 'x730', 'x731', 'x732', 'x733', 'x734', 'x735', 'x736', 'x737', 'x738', 'x739', 'x740', 'x741', 'x742', 'x743', 'x744', 'x745', 'x746', 'x747', 'x748', 'x749', 'x750', 'x751', 'x752', 'x753', 'x754', 'x755', 'x756', 'x757', 'x758', 'x759', 'x760', 'x761', 'x762', 'x763', 'x764', 'x765', 'x766', 'x767', 'x768', 'x769', 'x770', 'x771', 'x772', 'x773', 'x774', 'x775', 'x776', 'x777', 'x778', 'x779', 'x780', 'x781', 'x782', 'x783', 'x784'], 'ndarray': [[0.5500000556216214, 0.8581112240314454, 0.3419505216085066, 0.9548234499653996, 0.041854954039287184, 0.05985354257752751, 0.05987950075867832, 0.7620098680133593, 0.5394156621878504, 0.32075191541333614, 0.28567116511938784, 0.24149689953725628, 0.5935002755270276, 0.9001180157151507, 0.7425694372961472, 0.12415370902950418, 0.3019300299665122, 0.7621820364281021, 0.5606505378600065, 0.3568504297689147, 0.3113748169922207, 0.6328065233083632, 0.8003696761200533, 0.0798291323311422, 0.4558138201005939, 0.6571788524559231, 0.8082626042605187, 0.768966227787123, 0.5997593320902831, 0.6005564212020711, 0.264859807246118, 0.3639662353838894, 0.7461174781055402, 0.23651911207626364, 0.2679351385088613, 0.12311055761654321, 0.514288702275797, 0.2649715031963502, 0.6930298799566047, 0.8248527216019058, 0.9151677759671799, 0.07977794805024063, 0.25430741636478693, 0.25744309975614244, 0.26169880852817184, 0.7114515950619902, 0.6789903100830328, 0.9312796121215862, 0.7359701393889831, 0.6957283581878146, 0.2369980781701735, 0.0699889404055839, 0.599748384700069, 0.010978312487737618, 0.3571809334151892, 0.40750438080033025, 0.660639566459348, 0.3545301604125185, 0.6586405726458983, 0.31994516832166375, 0.24174704063035257, 0.21180034352183685, 0.10860441698790957, 0.5968491194470837, 0.19483641651508765, 0.9108457212230531, 0.5102384154122316, 0.049407581370987885, 0.9802410646921317, 0.7480363607789307, 0.8545068039137264, 0.6004610199872354, 0.6229330520934622, 0.7220939538691309, 0.6592540201583983, 0.6093202702952267, 0.3002866863608611, 0.33514041910557346, 0.7904470009971917, 0.9457697511605255, 0.7797547451787661, 0.8154710054390117, 0.5809954926325581, 0.1270303716795449, 0.6585683198960577, 0.43545869547526306, 0.4937509447656937, 0.6509487611070801, 0.9989695566088616, 0.2586751413303374, 0.982900800699001, 0.7613479097560925, 0.1769693116944382, 0.37374411342704017, 0.8922945690529315, 0.5202101986475522, 0.662458895121559, 0.02239471443704899, 0.6605516161960486, 0.5263200425780233, 0.8147234138679719, 0.9107696855678638, 0.7169093928666322, 0.49187905325757886, 0.06387231315198305, 0.7960545620325167, 0.9197187164784008, 0.7345557624146101, 0.6507613432719231, 0.40978420333032073, 0.5194241368476995, 0.9018582062981776, 0.4717711523848912, 0.16912197251380268, 0.249992835417173, 0.40188464212938435, 0.8794952189232552, 0.27276998764316385, 0.8264555785955634, 0.7008896891916346, 0.07362262837040368, 0.7276525614379662, 0.541667308290615, 0.84142441131587, 0.8018942880156618, 0.48130272319526946, 0.44935167191309255, 0.5147474763762349, 0.220563617546087, 0.6026020614166263, 0.05629398247270001, 0.2492004203441205, 0.5202771599777207, 0.049048499402406964, 0.39464545012157026, 0.663612462265439, 0.18834959415001273, 0.007207534257452242, 0.15943054676234092, 0.075046294468614, 0.7014375327346137, 0.010690530544314347, 0.6201282518582593, 0.9669627686331753, 0.4687770968144481, 0.71217609144134, 0.7256835958537794, 0.2728417483123633, 0.32857003898321824, 0.29309501849290365, 0.8880894432820775, 0.4695233694707446, 0.7976101490060538, 0.7732469130370133, 0.1411407038828567, 0.21549520157900626, 0.5523501405499078, 0.06573562828989854, 0.941309740641913, 0.38289626164489854, 0.8814529809146934, 0.08436283955325585, 0.9719012176689806, 0.9970958862738797, 0.014589987371192104, 0.13710583396740428, 0.25580962888129355, 0.021478867663068946, 0.3108601138107344, 0.8139436884182223, 0.8422977027936039, 0.5795414348483869, 0.667360625430779, 0.17647516654269857, 0.26372122100982187, 0.8306104287241309, 0.7331430008354501, 0.8718809853433236, 0.0543193005471595, 0.6508365003641093, 0.49832511015108216, 0.46668222145627103, 0.8965488749042526, 0.7164875762210855, 0.5150766178514257, 0.7615246166715767, 0.7354973551521332, 0.8335420140810662, 0.6391672561159344, 0.4139136266444776, 0.5618602906851845, 0.06045571853819953, 0.5408130564548601, 0.6450811801188643, 0.6911775681836868, 0.8539392597520241, 0.16022558332427972, 0.6021869401719327, 0.2819689953997522, 0.7265693732862802, 0.39260802355228974, 0.8720411598993324, 0.6244398458112329, 0.9469099308397511, 0.41882950748130676, 0.1399680411924462, 0.8293216069947832, 0.33550482032874285, 0.37721633211887884, 0.30683737021508883, 0.6127842307253466, 0.15702062375406212, 0.7800679260192104, 0.15279937142637678, 0.3716619005487307, 0.7534034353268978, 0.0849735761710676, 0.9841587582736435, 0.9112924087539891, 0.4491754496832826, 0.5730403688256979, 0.947465297831565, 0.8107282577317488, 0.8211231994238946, 0.863946110668652, 0.18719933277961143, 0.7163718713377424, 0.2792558324061205, 0.35486240950331727, 0.7993344169029455, 0.8054760135652719, 0.6740468957470339, 0.8177835493975569, 0.1996851278510059, 0.04564874465098889, 0.9673399935908064, 0.628007025669375, 0.4995411843186436, 0.07781658784064938, 0.08054924127626162, 0.8707532040046473, 0.6563408894761456, 0.4658435779112954, 0.1111644560414744, 0.9187373011908533, 0.16733350332551888, 0.5639159581004645, 0.23444370863525177, 0.48780523029375233, 0.7145275728242295, 0.7443240572121583, 0.1921119022323644, 0.6211556837790196, 0.9635313718513833, 0.34784298766512034, 0.006832568002625994, 0.18316830645164872, 0.8205321198280351, 0.3433640365054237, 0.9402453002662968, 0.9075763123648259, 0.633618626659684, 0.07869878441004008, 0.7150684231912047, 0.3529891181624746, 0.5248291338769077, 0.5207903507805183, 0.9204467909607913, 0.41673598880389995, 0.2775605084264775, 0.853269080488392, 0.7230736316880483, 0.5333039282023451, 0.3542452803985555, 0.3609086585770003, 0.0010201883551401725, 0.33644594755616153, 0.05338322009197638, 0.010961053988459812, 0.8039195772402226, 0.5598649708234649, 0.5339072347091, 0.968793875927439, 0.453561198313858, 0.7361119495880758, 0.44214745870417205, 0.11099009062027598, 0.9833069695630351, 0.5461653011891461, 0.49979082392271656, 0.1567799902813508, 0.28399081066900056, 0.9713867587185556, 0.16879361560594364, 0.6501758678294526, 0.030604544468764705, 0.3850536168327763, 0.004801971944687233, 0.3028178869904864, 0.652364770821396, 0.8298375779482001, 0.8966011095270092, 0.18038174923369166, 0.475270109148923, 0.9038820523130838, 0.037651541537293665, 0.25733105247067367, 0.9442977821405545, 0.4008552611394267, 0.3023242745039221, 0.5026188465386162, 0.3286128142020097, 0.8430375315126989, 0.10273303242901388, 0.5520115058681803, 0.9660961477289468, 0.16824185000314718, 0.45675740019039934, 0.7487767314741711, 0.14835591315003194, 0.31009193316684414, 0.05071866241235656, 0.6968142414621689, 0.0449168871331489, 0.3842182180420922, 0.700125888794458, 0.06380829182611636, 0.8529193495871119, 0.9566847723128689, 0.233065546723926, 0.8834382479318881, 0.4752604343608582, 0.7945366724557448, 0.8291351502398392, 0.8599149087513818, 0.6326132973602344, 0.28624913703844534, 0.49397159900889864, 0.17568482277711972, 0.04858616865365839, 0.7021760051432339, 0.11198139104551641, 0.6321598864089867, 0.6653539138417518, 0.7815924225794391, 0.10667755256666878, 0.14036468961060133, 0.9360309498069164, 0.5617737273685443, 0.687428299674076, 0.32103729596256936, 0.4135139295508008, 0.8747608103950446, 0.8179026939956738, 0.6363016941036129, 0.6563627909760513, 0.6216781841268646, 0.6768372375257034, 0.9937743635476387, 0.3635554429558454, 0.07220417675192026, 0.5993792105498204, 0.951054591875215, 0.8163857569192724, 0.13259123735271106, 0.19023602823047736, 0.4972758369851138, 0.7229350942087369, 0.6550167440334754, 0.04905519926353308, 0.7969243311181324, 0.9093354712768216, 0.6369973522064093, 0.5877976358584489, 0.1467753510499259, 0.9980649283054174, 0.5342682290460707, 0.20061522806112853, 0.8969851233426728, 0.45107460919145914, 0.3243333066660671, 0.8749041981503778, 0.08309572294492651, 0.17096437506891082, 0.8736378553865061, 0.8150701258137704, 0.25954917414670653, 0.1410119336382153, 0.22046780123527154, 0.09926560003917773, 0.5690198158242963, 0.4222464853519894, 0.20364669095832444, 0.7455082186121351, 0.8256815997677013, 0.10917228729008333, 0.08061364699713502, 0.675266550409741, 0.6051678683383012, 0.9888250403023107, 0.5606419715135786, 0.9425892913848706, 0.7996556232272252, 0.3647339034914733, 0.00655343082491977, 0.8529068324127406, 0.8686784025569985, 0.20616425268791538, 0.5455138964203755, 0.2211941458196678, 0.3818581180576073, 0.4640951525580672, 0.6728877953260912, 0.4717319558952474, 0.5080979738869006, 0.41676116059759116, 0.5280530510190004, 0.5543239614095199, 0.5202420407803274, 0.03550615863634632, 0.4989267489505037, 0.6808038886077475, 0.5522112203849678, 0.6189351333017322, 0.876539434774769, 0.6137281813878067, 0.9229672738859649, 0.9790482869116542, 0.39359503328765144, 0.5259561569320025, 0.9910473367773808, 0.7960308732564841, 0.6727620021890841, 0.083523049717667, 0.4711563187189728, 0.8911223210324178, 0.6559769927725574, 0.47321073195226904, 0.637665615184934, 0.9193442639748695, 0.8609912094443839, 0.16927299880303293, 0.5538888525061486, 0.6107648057665339, 0.8855993798417476, 0.4395088288971848, 0.2556481893244623, 0.3162065672570583, 0.48500117570083046, 0.47450271052666915, 0.015176772256302096, 0.6494197480687898, 0.43522336548482654, 0.2899980121660859, 0.0010133433382311097, 0.7889894200369307, 0.008329701145760593, 0.17308838724868447, 0.5164955834445601, 0.3913482348973768, 0.37043178418892786, 0.7877184626669699, 0.7907707094461696, 0.9390334145369582, 0.03379297472045928, 0.3408438245698914, 0.4562128896659984, 0.0762975398638267, 0.9092141645099103, 0.8195248438137573, 0.6847559400695401, 0.3710476155705389, 0.4378407924183827, 0.8207253821334848, 0.9134770041576704, 0.08767568842083584, 0.26524134328175963, 0.8291201217840964, 0.17846066853527798, 0.89507135530732, 0.9864840028781896, 0.35131094875178137, 0.7304206315946508, 0.5529108163254383, 0.14325579783105413, 0.6479968993084292, 0.30690308380744225, 0.7922939618483238, 0.8574272351528672, 0.6575134226259788, 0.41707277494019124, 0.8083720201263558, 0.9621944244549011, 0.35480576718760304, 0.6938259810112755, 0.7502029380967455, 0.5244325234514099, 0.3869579845220704, 0.7132821212380182, 0.8382533526036642, 0.37732424370798157, 0.381215854043647, 0.2334203951340842, 0.15580787125798046, 0.01960478597256199, 0.84609064561244, 0.5993478276360578, 0.9099409808538929, 0.24982070997588013, 0.7387683157809827, 0.03822642843319424, 0.9912580745055264, 0.13571236647679463, 0.40433873759512007, 0.08939072883365595, 0.5699609621897856, 0.34695119882617464, 0.4958318339613851, 0.3110351013222351, 0.012035357934982449, 0.8614838112901879, 0.9943977635519435, 0.8042036875237494, 0.32533125348156555, 0.1767419275083305, 0.8770431004095219, 0.10327305265355036, 0.42669167839934274, 0.8053526971802089, 0.953594865611676, 0.5100849529059208, 0.19955804204559868, 0.7102260156182122, 0.462487329369354, 0.01714753367425359, 0.7741113616143509, 0.39996518025254135, 0.08838616775291253, 0.2757784133534904, 0.15426746750151343, 0.8001320009696955, 0.4491017970510015, 0.3994834228994273, 0.14063333374712406, 0.43096447471751165, 0.5107206841579534, 0.9221716271481917, 0.8091278429017911, 0.03250448881784562, 0.24433062036841502, 0.2647959313939481, 0.1281606515745729, 0.7512351370487675, 0.9608001933528765, 0.4028762950302359, 0.15004796728047198, 0.7646201779894145, 0.6840497395034442, 0.2695840645489266, 0.45419663632647267, 0.1452895018879229, 0.5548077732264505, 0.1468149684159331, 0.5052200677119331, 0.9007720594855273, 0.7501110817857, 0.3175547085876572, 0.5217886608020103, 0.8659519854900126, 0.566123739741534, 0.02379356846786962, 0.1294608000131191, 0.945398208956482, 0.3734447798810967, 0.03080334137285301, 0.5374413741619094, 0.3913447103061408, 0.4314569197727357, 0.5287499929352941, 0.06555895632558828, 0.9428702569282031, 0.9952004837936248, 0.44537973733464165, 0.0453224181099986, 0.2573058102669066, 0.5539149364917111, 0.26944483878185077, 0.9511433119908529, 0.08091199218069656, 0.9911106271842147, 0.9408608433592162, 0.6839663037194254, 0.7301815340092858, 0.5211350911963053, 0.7128983137977744, 0.14980857328849762, 0.39378911865477206, 0.9249553690621299, 0.2746125135901589, 0.24292884067985576, 0.4807365789647874, 0.5130265692376612, 0.8563943044350159, 0.35182499039055115, 0.3640641541841688, 0.17548899210701085, 0.7612549672164175, 0.49363091181834595, 0.9400600153913253, 0.2531793171012513, 0.38988054754741985, 0.15694323075570937, 0.610723733709231, 0.56665328822735, 0.026624190274250448, 0.9478956854707854, 0.11185675805618156, 0.6856676064874376, 0.46767526864930964, 0.5952992910470223, 0.20065363884081955, 0.1436281550602071, 0.6872142336280469, 0.41159684424097054, 0.07234510191361765, 0.1178352763361259, 0.4095322810368026, 0.30826622055723785, 0.5476940074201009, 0.34296426009399317, 0.7803576624703026, 0.01372823421273961, 0.5463093600303038, 0.7078647058975285, 0.030210144457674226, 0.1208314899466344, 0.7085963240091487, 0.28274848806786734, 0.36697917168162253, 0.28524385325734947, 0.16666385882900747, 0.03139442715521157, 0.1397811223734452, 0.03598192965454072, 0.28511422574299616, 0.927979771595604, 0.40956674655187375, 0.08739792327941709, 0.9435623771811263, 0.23220624931574352, 0.5136824733246038, 0.02005249158100042, 0.7312065392584745, 0.36338094340496874, 0.08973889378296795, 0.11636017033714185, 0.6105488902914125, 0.42948010016290883, 0.645365207404631, 0.155908538381211, 0.44875054091184463, 0.6069535125731003, 0.7134952953371841, 0.8236353862182263, 0.3600012261719995, 0.3167990524483104, 0.4478025098860269, 0.6203428762778357, 0.6458084296730985, 0.3991412171897334, 0.7792854342832644, 0.22647449223383143, 0.0052937436427411555, 0.7754008697801918, 0.12069499149497098, 0.9404173935999708, 0.6659950284727852, 0.6880562554244904, 0.27673651608467664, 0.0021115156833835247, 0.510744704233001, 0.22029295881981492, 0.10690559448029113, 0.6283839822570714, 0.9315580457184298, 0.18518279275294425, 0.9227083028049267, 0.9107258646398585, 0.7249602099324833, 0.016917664749182992, 0.12205094405541761, 0.8720284181835651, 0.788314485881536, 0.7883886617913227, 0.6726398910491632, 0.4088484142339579, 0.022397013247712927, 0.13381780580003344, 0.288047355613687, 0.3101415263958681, 0.5567731004070393, 0.6756253839959354, 0.7303946276629423, 0.7268598967850495, 0.9853175217569023, 0.21982754704255936, 0.36790120096884305, 0.09648746222609661, 0.9910121262588216, 0.0657298252641273, 0.4780206041516377, 0.8081181894072145, 0.6348211082697944, 0.6036153984843692, 0.14808768443992726, 0.15332820814863202, 0.38237922624353105, 0.7793383426941993, 0.03556470241426346, 0.6514278590973416, 0.8530087559161347, 0.11406084712830666, 0.06802937819262822, 0.15436041821601765, 0.5062112585489924, 0.8195376534807296, 0.49705259591013806, 0.7364737852367996, 0.8279329941349061, 0.8327328517078745, 0.8531275778568178, 0.004349153359690772, 0.16564755277294396, 0.040158279871054026, 0.09314035098154305, 0.6293720767976471, 0.7325141662694993, 0.5490755647414521, 0.6461052301757366, 0.859268575738634, 0.8247461352317852, 0.3315691210208289, 0.2941116282026708, 0.05055916016222739, 0.6849727880564627, 0.9444916441251818, 0.2260904077986644, 0.48246256098557005, 0.7772481111056911, 0.2831079496605583, 0.39180978687028534, 0.7867298628467082, 0.19001941003607936, 0.6581444176929512, 0.7394479130372243, 0.698518790262264, 0.4001951864026696, 0.03792592214924684, 0.9261761416621667, 0.8404841076277038, 0.1625034642393013, 0.7625870239166141, 0.9381973257829697, 0.24038708587439905, 0.08988674705611266, 0.6593273183185454, 0.7855495706619827, 0.539670347961945, 0.053677288197352735, 0.16766165794698717, 0.9060036251477194, 0.3955648660141061, 0.23831499351883978, 0.6389848971592275, 0.04126019655424096, 0.5839933788018846, 0.19067806849404367, 0.03906301602561224, 0.7187563124585241, 0.9132815433581717, 0.5958413718520125, 0.7580588112698388, 0.3643990900870516, 0.9305702680087747]]}}\r\n"
     ]
    },
    {
     "name": "stdout",
     "output_type": "stream",
     "text": [
      "{\"access_token\":\"25a0c013-b13e-4ba4-ac93-bbef31dea622\",\"token_type\":\"bearer\",\"expires_in\":43122,\"scope\":\"read write\"}\n",
      "RECEIVED RESPONSE:\n",
      "{'code': 103, 'info': 'org.apache.http.conn.ConnectTimeoutException: Connect to caffe-test:8000 [caffe-test/10.111.208.227] failed: connect timed out', 'reason': 'Microservice error', 'status': 'FAILURE'}\n",
      "\n"
     ]
    }
   ],
   "source": [
    "!python ../../../../seldon-core/util/api_tester/api-tester.py contract.json \\\n",
    "    `minikube ip` `kubectl get svc -l app=seldon-apiserver-container-app -o jsonpath='{.items[0].spec.ports[0].nodePort}'` \\\n",
    "    --oauth-key oauth-key --oauth-secret oauth-secret -p"
   ]
  },
  {
   "cell_type": "code",
   "execution_count": 36,
   "metadata": {},
   "outputs": [
    {
     "name": "stdout",
     "output_type": "stream",
     "text": [
      "Deleting local Kubernetes cluster...\n",
      "Machine deleted.\n"
     ]
    }
   ],
   "source": [
    "!minikube delete"
   ]
  },
  {
   "cell_type": "code",
   "execution_count": null,
   "metadata": {},
   "outputs": [],
   "source": []
  }
 ],
 "metadata": {
  "kernelspec": {
   "display_name": "Python 3",
   "language": "python",
   "name": "python3"
  },
  "language_info": {
   "codemirror_mode": {
    "name": "ipython",
    "version": 3
   },
   "file_extension": ".py",
   "mimetype": "text/x-python",
   "name": "python",
   "nbconvert_exporter": "python",
   "pygments_lexer": "ipython3",
   "version": "3.7.0"
  }
 },
 "nbformat": 4,
 "nbformat_minor": 2
}
